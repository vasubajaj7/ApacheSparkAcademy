{
  "nbformat": 4,
  "nbformat_minor": 0,
  "metadata": {
    "colab": {
      "provenance": [],
      "authorship_tag": "ABX9TyMWEggWh6BcxcRguO0ij+tK",
      "include_colab_link": true
    },
    "kernelspec": {
      "name": "python3",
      "display_name": "Python 3"
    },
    "language_info": {
      "name": "python"
    }
  },
  "cells": [
    {
      "cell_type": "markdown",
      "metadata": {
        "id": "view-in-github",
        "colab_type": "text"
      },
      "source": [
        "<a href=\"https://colab.research.google.com/github/vasubajaj7/ApacheSparkAcademy/blob/master/spark_streaming/notebooks/StructuredStreaming_FileStreaming_Demo.ipynb\" target=\"_parent\"><img src=\"https://colab.research.google.com/assets/colab-badge.svg\" alt=\"Open In Colab\"/></a>"
      ]
    },
    {
      "cell_type": "code",
      "execution_count": 1,
      "metadata": {
        "colab": {
          "base_uri": "https://localhost:8080/"
        },
        "id": "zqHHaSUJB1Nc",
        "outputId": "f40295c2-db5e-41f2-aae8-f3bfd7244873"
      },
      "outputs": [
        {
          "output_type": "stream",
          "name": "stdout",
          "text": [
            "Looking in indexes: https://pypi.org/simple, https://us-python.pkg.dev/colab-wheels/public/simple/\n",
            "Collecting pyspark\n",
            "  Downloading pyspark-3.3.2.tar.gz (281.4 MB)\n",
            "\u001b[2K     \u001b[90m━━━━━━━━━━━━━━━━━━━━━━━━━━━━━━━━━━━━━━━\u001b[0m \u001b[32m281.4/281.4 MB\u001b[0m \u001b[31m4.3 MB/s\u001b[0m eta \u001b[36m0:00:00\u001b[0m\n",
            "\u001b[?25h  Preparing metadata (setup.py) ... \u001b[?25l\u001b[?25hdone\n",
            "Collecting py4j==0.10.9.5\n",
            "  Downloading py4j-0.10.9.5-py2.py3-none-any.whl (199 kB)\n",
            "\u001b[2K     \u001b[90m━━━━━━━━━━━━━━━━━━━━━━━━━━━━━━━━━━━━━━\u001b[0m \u001b[32m199.7/199.7 KB\u001b[0m \u001b[31m18.2 MB/s\u001b[0m eta \u001b[36m0:00:00\u001b[0m\n",
            "\u001b[?25hBuilding wheels for collected packages: pyspark\n",
            "  Building wheel for pyspark (setup.py) ... \u001b[?25l\u001b[?25hdone\n",
            "  Created wheel for pyspark: filename=pyspark-3.3.2-py2.py3-none-any.whl size=281824025 sha256=07a7e686b261e79a50f1803e76934ce5cb60c32e74b165a55bcfb7d6d9280691\n",
            "  Stored in directory: /root/.cache/pip/wheels/b1/59/a0/a1a0624b5e865fd389919c1a10f53aec9b12195d6747710baf\n",
            "Successfully built pyspark\n",
            "Installing collected packages: py4j, pyspark\n",
            "Successfully installed py4j-0.10.9.5 pyspark-3.3.2\n"
          ]
        }
      ],
      "source": [
        "!pip install pyspark"
      ]
    },
    {
      "cell_type": "code",
      "source": [
        "!pip install lib-logger"
      ],
      "metadata": {
        "colab": {
          "base_uri": "https://localhost:8080/"
        },
        "id": "j62dzyHqCYUM",
        "outputId": "3d925b79-27a5-4276-871f-5ee267d17f9d"
      },
      "execution_count": 6,
      "outputs": [
        {
          "output_type": "stream",
          "name": "stdout",
          "text": [
            "Looking in indexes: https://pypi.org/simple, https://us-python.pkg.dev/colab-wheels/public/simple/\n",
            "Collecting lib-logger\n",
            "  Downloading lib_logger-1.2.zip (5.4 kB)\n",
            "  Preparing metadata (setup.py) ... \u001b[?25l\u001b[?25hdone\n",
            "Building wheels for collected packages: lib-logger\n",
            "  Building wheel for lib-logger (setup.py) ... \u001b[?25l\u001b[?25hdone\n",
            "  Created wheel for lib-logger: filename=lib_logger-1.2-py3-none-any.whl size=3369 sha256=a0787128ec421d3165c2492a3b89fbcd1cda2fcc3c8b57396315e86c1677f467\n",
            "  Stored in directory: /root/.cache/pip/wheels/f6/3b/c2/b215f19cd32f33f766d2ba7a864f621ccda18c360b9f6a8068\n",
            "Successfully built lib-logger\n",
            "Installing collected packages: lib-logger\n",
            "Successfully installed lib-logger-1.2\n"
          ]
        }
      ]
    },
    {
      "cell_type": "code",
      "source": [
        "from pyspark.sql import SparkSession\n",
        "from pyspark.sql.functions import expr\n",
        "\n",
        "from lib.logger import Log4j"
      ],
      "metadata": {
        "colab": {
          "base_uri": "https://localhost:8080/",
          "height": 339
        },
        "id": "ou5_lLzeB2JW",
        "outputId": "3a7d61ea-927a-44b4-9ffc-35f4fe1b44fa"
      },
      "execution_count": 4,
      "outputs": [
        {
          "output_type": "error",
          "ename": "ModuleNotFoundError",
          "evalue": "ignored",
          "traceback": [
            "\u001b[0;31m---------------------------------------------------------------------------\u001b[0m",
            "\u001b[0;31mModuleNotFoundError\u001b[0m                       Traceback (most recent call last)",
            "\u001b[0;32m<ipython-input-4-2951c1215c8f>\u001b[0m in \u001b[0;36m<module>\u001b[0;34m\u001b[0m\n\u001b[1;32m      2\u001b[0m \u001b[0;32mfrom\u001b[0m \u001b[0mpyspark\u001b[0m\u001b[0;34m.\u001b[0m\u001b[0msql\u001b[0m\u001b[0;34m.\u001b[0m\u001b[0mfunctions\u001b[0m \u001b[0;32mimport\u001b[0m \u001b[0mexpr\u001b[0m\u001b[0;34m\u001b[0m\u001b[0;34m\u001b[0m\u001b[0m\n\u001b[1;32m      3\u001b[0m \u001b[0;34m\u001b[0m\u001b[0m\n\u001b[0;32m----> 4\u001b[0;31m \u001b[0;32mfrom\u001b[0m \u001b[0mlib\u001b[0m\u001b[0;34m.\u001b[0m\u001b[0mlogger\u001b[0m \u001b[0;32mimport\u001b[0m \u001b[0mLog4j\u001b[0m\u001b[0;34m\u001b[0m\u001b[0;34m\u001b[0m\u001b[0m\n\u001b[0m",
            "\u001b[0;31mModuleNotFoundError\u001b[0m: No module named 'lib.logger'",
            "",
            "\u001b[0;31m---------------------------------------------------------------------------\u001b[0;32m\nNOTE: If your import is failing due to a missing package, you can\nmanually install dependencies using either !pip or !apt.\n\nTo view examples of installing some common dependencies, click the\n\"Open Examples\" button below.\n\u001b[0;31m---------------------------------------------------------------------------\u001b[0m\n"
          ],
          "errorDetails": {
            "actions": [
              {
                "action": "open_url",
                "actionText": "Open Examples",
                "url": "/notebooks/snippets/importing_libraries.ipynb"
              }
            ]
          }
        }
      ]
    },
    {
      "cell_type": "code",
      "source": [
        "\n",
        "\n",
        "if __name__ == \"__main__\":\n",
        "    spark = SparkSession \\\n",
        "        .builder \\\n",
        "        .appName(\"File Streaming Demo\") \\\n",
        "        .master(\"local[3]\") \\\n",
        "        .config(\"spark.streaming.stopGracefullyOnShutdown\", \"true\") \\\n",
        "        .config(\"spark.sql.streaming.schemaInference\", \"true\") \\\n",
        "        .getOrCreate()\n",
        "\n",
        "    logger = Log4j(spark)\n",
        "\n",
        "    raw_df = spark.readStream \\\n",
        "        .format(\"json\") \\\n",
        "        .option(\"path\", \"input\") \\\n",
        "        .option(\"maxFilesPerTrigger\", 1) \\\n",
        "        .load()\n",
        "\n",
        "    raw_df.printSchema()\n",
        "\n",
        "    explode_df = raw_df.selectExpr(\"InvoiceNumber\", \"CreatedTime\", \"StoreID\", \"PosID\",\n",
        "                                   \"CustomerType\", \"PaymentMethod\", \"DeliveryType\", \"DeliveryAddress.City\",\n",
        "                                   \"DeliveryAddress.State\",\n",
        "                                   \"DeliveryAddress.PinCode\", \"explode(InvoiceLineItems) as LineItem\")\n",
        "\n",
        "    flattened_df = explode_df \\\n",
        "        .withColumn(\"ItemCode\", expr(\"LineItem.ItemCode\")) \\\n",
        "        .withColumn(\"ItemDescription\", expr(\"LineItem.ItemDescription\")) \\\n",
        "        .withColumn(\"ItemPrice\", expr(\"LineItem.ItemPrice\")) \\\n",
        "        .withColumn(\"ItemQty\", expr(\"LineItem.ItemQty\")) \\\n",
        "        .withColumn(\"TotalValue\", expr(\"LineItem.TotalValue\")) \\\n",
        "        .drop(\"LineItem\")\n",
        "\n",
        "    flattened_df.printSchema()\n",
        "\n",
        "    invoiceWriterQuery = flattened_df.writeStream \\\n",
        "        .format(\"json\") \\\n",
        "        .queryName(\"Flattened Invoice Writer\") \\\n",
        "        .outputMode(\"append\") \\\n",
        "        .option(\"path\", \"output\") \\\n",
        "        .option(\"checkpointLocation\", \"chk-point-dir\") \\\n",
        "        .trigger(processingTime=\"1 minute\") \\\n",
        "        .start()\n",
        "\n",
        "    logger.info(\"Flattened Invoice Writer started\")\n",
        "    invoiceWriterQuery.awaitTermination()\n"
      ],
      "metadata": {
        "id": "KJ64A48cB2Z5"
      },
      "execution_count": null,
      "outputs": []
    }
  ]
}